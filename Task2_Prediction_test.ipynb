{
  "nbformat": 4,
  "nbformat_minor": 0,
  "metadata": {
    "colab": {
      "provenance": []
    },
    "kernelspec": {
      "name": "python3",
      "display_name": "Python 3"
    },
    "language_info": {
      "name": "python"
    }
  },
  "cells": [
    {
      "cell_type": "code",
      "source": [
        "from google.colab import drive\n",
        "drive.mount('/content/drive')\n",
        "\n"
      ],
      "metadata": {
        "colab": {
          "base_uri": "https://localhost:8080/"
        },
        "id": "nll1uzKJNIiX",
        "outputId": "b6f162f3-c337-41a4-89a9-a38abf474309"
      },
      "execution_count": 3,
      "outputs": [
        {
          "output_type": "stream",
          "name": "stdout",
          "text": [
            "Drive already mounted at /content/drive; to attempt to forcibly remount, call drive.mount(\"/content/drive\", force_remount=True).\n"
          ]
        }
      ]
    },
    {
      "cell_type": "code",
      "execution_count": 5,
      "metadata": {
        "colab": {
          "base_uri": "https://localhost:8080/"
        },
        "id": "UrOwaDX1LnII",
        "outputId": "db9cb5fa-ffb8-48e5-fb13-f6c42f2f45ac"
      },
      "outputs": [
        {
          "output_type": "stream",
          "name": "stdout",
          "text": [
            "Enter a sentence to classify: i want to buy my dress online\n",
            "Predicted Category: Ecommerce\n"
          ]
        }
      ],
      "source": [
        "\n",
        "\n",
        "import joblib\n",
        "\n",
        "# Load saved model and vectorizer\n",
        "model = joblib.load('/content/drive/MyDrive/text_classifier.pkl')\n",
        "vectorizer = joblib.load('/content/drive/MyDrive/vectorizer.pkl')\n",
        "\n",
        "# Simple text cleaner (consistent with training)\n",
        "def clean_text(text):\n",
        "    return \" \".join(text.lower().split())\n",
        "\n",
        "# Prediction function\n",
        "def predict_category(text):\n",
        "    cleaned = clean_text(text)\n",
        "    vectorized = vectorizer.transform([cleaned])\n",
        "    prediction = model.predict(vectorized)[0]\n",
        "    print(\"Predicted Category:\", prediction)\n",
        "\n",
        "# Example: User input\n",
        "user_input = input(\"Enter a sentence to classify: \")\n",
        "predict_category(user_input)\n"
      ]
    }
  ]
}